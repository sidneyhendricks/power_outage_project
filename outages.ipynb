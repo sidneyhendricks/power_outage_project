{
 "cells": [
  {
   "cell_type": "markdown",
   "metadata": {},
   "source": [
    "# Power Outage Severity Prediction"
   ]
  },
  {
   "cell_type": "markdown",
   "metadata": {},
   "source": [
    "# Summary of Findings\n",
    "\n",
    "\n",
    "### Introduction\n",
    "In this project we are looking at a dataset containing information about all major power outages occuring in the US between January 2012 and July 2016. Each row represents a power outage and the columns contain attributes to the power outage. \n",
    "\n",
    "We are interested in predicting the severity of a major power outage. The target variable we chose to use is the column CUSTOMERS.AFFECTED, which is the number of customers affected by the major power outage event. We chose this variable as a predictor of the severity since the severity of an outage can be measured by the number of customers affected. We want the number of customers affected to be as small as possible for any major power outage. The evaluation metric we are using is R^2, the coefficient of determination. We chose to use R^2 because it allows us to test the accuracy of our model as well as compare the difference between the training and testing data. We want the R^2 of the training and testing data to be as close together as possible. If the R^2 of the training data is really high, but the test data low, then we know that we have overfit our model. \n",
    "\n",
    "### Baseline Model\n",
    "For our baseline model, we train a linear regression model using 7 features (5 quantitative, 2 nominal, 0 ordinal) to predict the number of customers affected by an outage. \n",
    "\n",
    "Nominal features: YEAR, POSTAL.CODE, NERC.REGION, CLIMATE.REGION\n",
    "Quantitative features: DEMAND.LOSS.MW, OUTAGE.DURATION, POPDEN_RURAL\n",
    "We did not use any ordinal features. \n",
    "\n",
    "In building our model, we apply SimpleImputer to the quantitative features and apply SimpleImputer and OneHotEncoder to the nominal features. We train our model using a train-test split of 90%/10% and score both the training and test data in order to get our R^2 evaluation metric. For our training data we got 0.54 and for our test data we got -1.46. This model performance is not very good. Not only is our training data inaccurate, but the difference in accuracy between the training and test data is high. This is not an ideal model, so we will look to improve this in our final model.\n",
    "\n",
    "### Final Model\n",
    "For the final model, we switched to random forest regression model and set the max depth to 8 after searching for the best model using GridSearchCV. We chose to use a max depth of 8 because the model improved little or not at all after 8. We also applied StandardScaler to the quantitative columns to use their zscores so that all values are between the range of 0 and 1. We do this so that all of the quantitative data uses the same center scale. We also use PCA after one hot encoding our categorical variables in order to get rid of extra noise by dropping the correlated features. \n",
    "\n",
    "After doing a train-test split of 90%/10% we get our R^2 evaluation metric for both the training and test data. For the training data we scored 0.88 and scored 0.37 for the test data. Although the final model improved the R^2 value of the training and test data, the difference in values is still really high. Thus the model is still being overfit. \n",
    "\n",
    "### Fairness Evaluation\n",
    "Since we used a regression model, we are going to assess the fairness of our model using R^2 because this is a measure of accuracy for regression. We perform a permutation test at a signifiance level of 0.05 with the test statistic given by R^2. \n",
    "\n",
    "H0: The distributions of the R^2 evaluation metric is the same for long and short duration power outages. \n",
    "\n",
    "H1: The distributions of the R^2 evaluation metric is different for long and short duration power outages. \n",
    "\n",
    "After running the permutation test we get a p-value of 0.48. Thus we fail to reject the null hypothesis. "
   ]
  },
  {
   "cell_type": "markdown",
   "metadata": {},
   "source": [
    "# Code"
   ]
  },
  {
   "cell_type": "code",
   "execution_count": 362,
   "metadata": {},
   "outputs": [
    {
     "name": "stdout",
     "output_type": "stream",
     "text": [
      "The autoreload extension is already loaded. To reload it, use:\n",
      "  %reload_ext autoreload\n"
     ]
    }
   ],
   "source": [
    "import matplotlib.pyplot as plt\n",
    "import numpy as np\n",
    "import os\n",
    "import pandas as pd\n",
    "import seaborn as sns\n",
    "%matplotlib inline\n",
    "%config InlineBackend.figure_format = 'retina'  # Higher resolution figures\n",
    "from helper_fns import *\n",
    "%load_ext autoreload\n",
    "%autoreload 2\n",
    "from sklearn.decomposition import PCA\n",
    "from sklearn.linear_model import LinearRegression\n",
    "from sklearn.preprocessing import OneHotEncoder\n",
    "\n",
    "from sklearn.pipeline import Pipeline\n",
    "from sklearn.compose import ColumnTransformer\n",
    "from sklearn.preprocessing import FunctionTransformer\n",
    "from sklearn.model_selection import train_test_split\n",
    "from sklearn.impute import SimpleImputer\n",
    "from sklearn.preprocessing import StandardScaler\n",
    "from sklearn.ensemble import RandomForestRegressor\n",
    "from sklearn.model_selection import cross_val_score\n",
    "from sklearn.model_selection import GridSearchCV\n",
    "from sklearn import metrics"
   ]
  },
  {
   "cell_type": "code",
   "execution_count": 363,
   "metadata": {},
   "outputs": [],
   "source": [
    "# load in the data\n",
    "data = pd.read_excel('outage.xlsx', skiprows = 5, header=[0,1])\n",
    "#clean the outage dataset using the data cleaning in project 3 through a helper function\n",
    "clean_data = clean_outage_data(data)"
   ]
  },
  {
   "cell_type": "markdown",
   "metadata": {},
   "source": [
    "### Baseline Model"
   ]
  },
  {
   "cell_type": "code",
   "execution_count": 364,
   "metadata": {},
   "outputs": [],
   "source": [
    "pred_df = clean_data[['YEAR','CAUSE.CATEGORY.DETAIL','DEMAND.LOSS.MW', \n",
    "                      'POSTAL.CODE', 'NERC.REGION', 'CLIMATE.REGION', \n",
    "                      'CLIMATE.CATEGORY', 'CAUSE.CATEGORY', 'OUTAGE.DURATION', \n",
    "                      'CUSTOMERS.AFFECTED', 'TOTAL.PRICE', 'POPDEN_RURAL']]\n",
    "pred_df = pred_df.loc[pred_df['CAUSE.CATEGORY'] == 'severe weather']\n",
    "#need to handle nulls better in actual project \n",
    "pred_df = pred_df.dropna()"
   ]
  },
  {
   "cell_type": "code",
   "execution_count": 365,
   "metadata": {},
   "outputs": [],
   "source": [
    "x_cols = pred_df[['DEMAND.LOSS.MW', 'OUTAGE.DURATION', 'CAUSE.CATEGORY.DETAIL', \n",
    "                  'YEAR', 'POSTAL.CODE', 'NERC.REGION', 'CLIMATE.REGION', 'POPDEN_RURAL']]\n",
    "y = pred_df['CUSTOMERS.AFFECTED']\n",
    "X_train, X_test, y_train, y_test = train_test_split(x_cols, y, test_size=.1, random_state=10)\n",
    "\n"
   ]
  },
  {
   "cell_type": "code",
   "execution_count": 366,
   "metadata": {},
   "outputs": [],
   "source": [
    "num_vars = ['DEMAND.LOSS.MW', 'OUTAGE.DURATION', 'POPDEN_RURAL']\n",
    "cat_vars = ['CAUSE.CATEGORY.DETAIL', 'YEAR', 'POSTAL.CODE', 'NERC.REGION', 'CLIMATE.REGION']\n",
    "cat_trans = Pipeline([\n",
    "    ('simp', SimpleImputer(strategy='constant', fill_value='NULL')),\n",
    "    ('ohe', OneHotEncoder(sparse=False, handle_unknown='ignore')), \n",
    "])\n",
    "\n",
    "preproc = ColumnTransformer(transformers=[\n",
    "    ('num trans', SimpleImputer(strategy='constant', fill_value=0), num_vars), \n",
    "    ('cat trans', cat_trans, cat_vars)])\n",
    "pl = Pipeline(steps=[('preprocessor', preproc), ('lin regress', LinearRegression())])"
   ]
  },
  {
   "cell_type": "code",
   "execution_count": 367,
   "metadata": {},
   "outputs": [
    {
     "data": {
      "text/plain": [
       "Pipeline(steps=[('preprocessor',\n",
       "                 ColumnTransformer(transformers=[('num trans',\n",
       "                                                  SimpleImputer(fill_value=0,\n",
       "                                                                strategy='constant'),\n",
       "                                                  ['DEMAND.LOSS.MW',\n",
       "                                                   'OUTAGE.DURATION',\n",
       "                                                   'POPDEN_RURAL']),\n",
       "                                                 ('cat trans',\n",
       "                                                  Pipeline(steps=[('simp',\n",
       "                                                                   SimpleImputer(fill_value='NULL',\n",
       "                                                                                 strategy='constant')),\n",
       "                                                                  ('ohe',\n",
       "                                                                   OneHotEncoder(handle_unknown='ignore',\n",
       "                                                                                 sparse=False))]),\n",
       "                                                  ['CAUSE.CATEGORY.DETAIL',\n",
       "                                                   'YEAR', 'POSTAL.CODE',\n",
       "                                                   'NERC.REGION',\n",
       "                                                   'CLIMATE.REGION'])])),\n",
       "                ('lin regress', LinearRegression())])"
      ]
     },
     "execution_count": 367,
     "metadata": {},
     "output_type": "execute_result"
    }
   ],
   "source": [
    "pl.fit(X_train, y_train)"
   ]
  },
  {
   "cell_type": "code",
   "execution_count": 368,
   "metadata": {},
   "outputs": [
    {
     "name": "stdout",
     "output_type": "stream",
     "text": [
      "R^2 for training data:  0.5435658602006856\n",
      "R^2 for test data:  -1.4627665653773323\n"
     ]
    },
    {
     "name": "stderr",
     "output_type": "stream",
     "text": [
      "<ipython-input-368-557a49fbd79a>:3: RuntimeWarning: invalid value encountered in sqrt\n",
      "  train_rmse = np.sqrt(np.mean(pl.predict(X_train) - y_train))\n",
      "<ipython-input-368-557a49fbd79a>:4: RuntimeWarning: invalid value encountered in sqrt\n",
      "  test_rmse = np.sqrt(np.mean(pl.predict(X_test) - y_test))\n"
     ]
    }
   ],
   "source": [
    "train_rsquared = pl.score(X_train, y_train)\n",
    "test_rsquared = pl.score(X_test, y_test)\n",
    "train_rmse = np.sqrt(np.mean(pl.predict(X_train) - y_train))\n",
    "test_rmse = np.sqrt(np.mean(pl.predict(X_test) - y_test))\n",
    "print(\"R^2 for training data: \", train_rsquared)\n",
    "print(\"R^2 for test data: \", test_rsquared)"
   ]
  },
  {
   "cell_type": "markdown",
   "metadata": {},
   "source": [
    "### Final Model"
   ]
  },
  {
   "cell_type": "code",
   "execution_count": 369,
   "metadata": {},
   "outputs": [],
   "source": [
    "pred_df = clean_data[['MONTH','YEAR','CAUSE.CATEGORY.DETAIL','DEMAND.LOSS.MW', 'POSTAL.CODE', 'NERC.REGION', \n",
    "                      'CLIMATE.REGION', 'CLIMATE.CATEGORY', 'CAUSE.CATEGORY', 'OUTAGE.DURATION', \n",
    "                      'CUSTOMERS.AFFECTED', 'TOTAL.PRICE', 'POPDEN_RURAL']]\n",
    "pred_df = pred_df.loc[pred_df['CAUSE.CATEGORY'] == 'severe weather']\n",
    "#need to handle nulls better in actual project \n",
    "pred_df = pred_df.dropna()"
   ]
  },
  {
   "cell_type": "code",
   "execution_count": 370,
   "metadata": {},
   "outputs": [],
   "source": [
    "x_cols = pred_df[['DEMAND.LOSS.MW', 'OUTAGE.DURATION', 'CAUSE.CATEGORY.DETAIL', \n",
    "                  'YEAR', 'POSTAL.CODE', 'NERC.REGION', 'CLIMATE.REGION', 'POPDEN_RURAL']]\n",
    "y = pred_df['CUSTOMERS.AFFECTED']\n",
    "X_train, X_test, y_train, y_test = train_test_split(x_cols, y, test_size=.1, random_state=10)"
   ]
  },
  {
   "cell_type": "code",
   "execution_count": 371,
   "metadata": {},
   "outputs": [],
   "source": [
    "num_vars = ['DEMAND.LOSS.MW', 'OUTAGE.DURATION', 'POPDEN_RURAL']\n",
    "cat_vars = ['CAUSE.CATEGORY.DETAIL', 'YEAR', 'POSTAL.CODE', 'NERC.REGION', 'CLIMATE.REGION']\n",
    "cat_trans = Pipeline([\n",
    "    ('simp', SimpleImputer(strategy='constant', fill_value='NULL')),\n",
    "    ('ohe', OneHotEncoder(sparse=False, handle_unknown='ignore')), \n",
    "    ('pca', PCA(svd_solver='full', n_components=0.8))\n",
    "])\n",
    "\n",
    "preproc = ColumnTransformer(transformers=[('num trans', SimpleImputer(strategy='constant', fill_value=0), num_vars), \n",
    "                                          ('cat trans', cat_trans, cat_vars)])\n",
    "pl = Pipeline(steps=[('preprocessor', preproc), ('reg', RandomForestRegressor())])"
   ]
  },
  {
   "cell_type": "code",
   "execution_count": 372,
   "metadata": {},
   "outputs": [
    {
     "data": {
      "text/plain": [
       "Pipeline(steps=[('preprocessor',\n",
       "                 ColumnTransformer(transformers=[('num trans',\n",
       "                                                  SimpleImputer(fill_value=0,\n",
       "                                                                strategy='constant'),\n",
       "                                                  ['DEMAND.LOSS.MW',\n",
       "                                                   'OUTAGE.DURATION',\n",
       "                                                   'POPDEN_RURAL']),\n",
       "                                                 ('cat trans',\n",
       "                                                  Pipeline(steps=[('simp',\n",
       "                                                                   SimpleImputer(fill_value='NULL',\n",
       "                                                                                 strategy='constant')),\n",
       "                                                                  ('ohe',\n",
       "                                                                   OneHotEncoder(handle_unknown='ignore',\n",
       "                                                                                 sparse=False)),\n",
       "                                                                  ('pca',\n",
       "                                                                   PCA(n_components=0.8,\n",
       "                                                                       svd_solver='full'))]),\n",
       "                                                  ['CAUSE.CATEGORY.DETAIL',\n",
       "                                                   'YEAR', 'POSTAL.CODE',\n",
       "                                                   'NERC.REGION',\n",
       "                                                   'CLIMATE.REGION'])])),\n",
       "                ('reg', RandomForestRegressor())])"
      ]
     },
     "execution_count": 372,
     "metadata": {},
     "output_type": "execute_result"
    }
   ],
   "source": [
    "pl.fit(X_train, y_train)"
   ]
  },
  {
   "cell_type": "code",
   "execution_count": 373,
   "metadata": {},
   "outputs": [
    {
     "data": {
      "text/plain": [
       "dict_keys(['memory', 'steps', 'verbose', 'preprocessor', 'reg', 'preprocessor__n_jobs', 'preprocessor__remainder', 'preprocessor__sparse_threshold', 'preprocessor__transformer_weights', 'preprocessor__transformers', 'preprocessor__verbose', 'preprocessor__num trans', 'preprocessor__cat trans', 'preprocessor__num trans__add_indicator', 'preprocessor__num trans__copy', 'preprocessor__num trans__fill_value', 'preprocessor__num trans__missing_values', 'preprocessor__num trans__strategy', 'preprocessor__num trans__verbose', 'preprocessor__cat trans__memory', 'preprocessor__cat trans__steps', 'preprocessor__cat trans__verbose', 'preprocessor__cat trans__simp', 'preprocessor__cat trans__ohe', 'preprocessor__cat trans__pca', 'preprocessor__cat trans__simp__add_indicator', 'preprocessor__cat trans__simp__copy', 'preprocessor__cat trans__simp__fill_value', 'preprocessor__cat trans__simp__missing_values', 'preprocessor__cat trans__simp__strategy', 'preprocessor__cat trans__simp__verbose', 'preprocessor__cat trans__ohe__categories', 'preprocessor__cat trans__ohe__drop', 'preprocessor__cat trans__ohe__dtype', 'preprocessor__cat trans__ohe__handle_unknown', 'preprocessor__cat trans__ohe__sparse', 'preprocessor__cat trans__pca__copy', 'preprocessor__cat trans__pca__iterated_power', 'preprocessor__cat trans__pca__n_components', 'preprocessor__cat trans__pca__random_state', 'preprocessor__cat trans__pca__svd_solver', 'preprocessor__cat trans__pca__tol', 'preprocessor__cat trans__pca__whiten', 'reg__bootstrap', 'reg__ccp_alpha', 'reg__criterion', 'reg__max_depth', 'reg__max_features', 'reg__max_leaf_nodes', 'reg__max_samples', 'reg__min_impurity_decrease', 'reg__min_impurity_split', 'reg__min_samples_leaf', 'reg__min_samples_split', 'reg__min_weight_fraction_leaf', 'reg__n_estimators', 'reg__n_jobs', 'reg__oob_score', 'reg__random_state', 'reg__verbose', 'reg__warm_start'])"
      ]
     },
     "execution_count": 373,
     "metadata": {},
     "output_type": "execute_result"
    }
   ],
   "source": [
    "pl.get_params().keys()"
   ]
  },
  {
   "cell_type": "code",
   "execution_count": 374,
   "metadata": {},
   "outputs": [
    {
     "data": {
      "text/plain": [
       "GridSearchCV(cv=3,\n",
       "             estimator=Pipeline(steps=[('preprocessor',\n",
       "                                        ColumnTransformer(transformers=[('num '\n",
       "                                                                         'trans',\n",
       "                                                                         SimpleImputer(fill_value=0,\n",
       "                                                                                       strategy='constant'),\n",
       "                                                                         ['DEMAND.LOSS.MW',\n",
       "                                                                          'OUTAGE.DURATION',\n",
       "                                                                          'POPDEN_RURAL']),\n",
       "                                                                        ('cat '\n",
       "                                                                         'trans',\n",
       "                                                                         Pipeline(steps=[('simp',\n",
       "                                                                                          SimpleImputer(fill_value='NULL',\n",
       "                                                                                                        strategy='constant')),\n",
       "                                                                                         ('ohe',\n",
       "                                                                                          OneHotEncoder(handle_unknown='ignore',\n",
       "                                                                                                        sparse=False)),\n",
       "                                                                                         ('pca',\n",
       "                                                                                          PCA(n_components=0.8,\n",
       "                                                                                              svd_solver='full'))]),\n",
       "                                                                         ['CAUSE.CATEGORY.DETAIL',\n",
       "                                                                          'YEAR',\n",
       "                                                                          'POSTAL.CODE',\n",
       "                                                                          'NERC.REGION',\n",
       "                                                                          'CLIMATE.REGION'])])),\n",
       "                                       ('reg', RandomForestRegressor())]),\n",
       "             param_grid={'reg__max_depth': array([ 2,  4,  6,  8, 10, 12, 14, 16, 18, 20, 22, 24, 26, 28])},\n",
       "             return_train_score=True)"
      ]
     },
     "execution_count": 374,
     "metadata": {},
     "output_type": "execute_result"
    }
   ],
   "source": [
    "params = {\n",
    "    'reg__max_depth': np.arange(2,30,2)\n",
    "}\n",
    "grids = GridSearchCV(pl, param_grid=params, cv=3, return_train_score=True)\n",
    "grids.fit(X_train, y_train)"
   ]
  },
  {
   "cell_type": "code",
   "execution_count": 375,
   "metadata": {},
   "outputs": [
    {
     "data": {
      "text/plain": [
       "dict_keys(['mean_fit_time', 'std_fit_time', 'mean_score_time', 'std_score_time', 'param_reg__max_depth', 'params', 'split0_test_score', 'split1_test_score', 'split2_test_score', 'mean_test_score', 'std_test_score', 'rank_test_score', 'split0_train_score', 'split1_train_score', 'split2_train_score', 'mean_train_score', 'std_train_score'])"
      ]
     },
     "execution_count": 375,
     "metadata": {},
     "output_type": "execute_result"
    }
   ],
   "source": [
    "grids.cv_results_.keys()"
   ]
  },
  {
   "cell_type": "code",
   "execution_count": 376,
   "metadata": {},
   "outputs": [
    {
     "data": {
      "text/plain": [
       "{'reg__max_depth': array([ 2,  4,  6,  8, 10, 12, 14, 16, 18, 20, 22, 24, 26, 28])}"
      ]
     },
     "execution_count": 376,
     "metadata": {},
     "output_type": "execute_result"
    }
   ],
   "source": [
    "grids.param_grid"
   ]
  },
  {
   "cell_type": "code",
   "execution_count": 377,
   "metadata": {},
   "outputs": [],
   "source": [
    "index = grids.param_grid['reg__max_depth']\n",
    "test = grids.cv_results_['mean_test_score']\n",
    "train = grids.cv_results_['mean_train_score']"
   ]
  },
  {
   "cell_type": "code",
   "execution_count": 378,
   "metadata": {},
   "outputs": [
    {
     "data": {
      "text/plain": [
       "<AxesSubplot:>"
      ]
     },
     "execution_count": 378,
     "metadata": {},
     "output_type": "execute_result"
    },
    {
     "data": {
      "image/png": "[encoded data removed]",
      "text/plain": [
       "<Figure size 432x288 with 1 Axes>"
      ]
     },
     "metadata": {
      "image/png": {
       "height": 248,
       "width": 380
      },
      "needs_background": "light"
     },
     "output_type": "display_data"
    }
   ],
   "source": [
    "pd.DataFrame({'test': test, 'train': train}, index=index).plot()"
   ]
  },
  {
   "cell_type": "code",
   "execution_count": 379,
   "metadata": {},
   "outputs": [],
   "source": [
    "num_vars = ['DEMAND.LOSS.MW', 'OUTAGE.DURATION', 'POPDEN_RURAL']\n",
    "cat_vars = ['CAUSE.CATEGORY.DETAIL', 'YEAR', 'POSTAL.CODE', 'NERC.REGION', 'CLIMATE.REGION']\n",
    "cat_trans = Pipeline([\n",
    "    ('simp', SimpleImputer(strategy='constant', fill_value='NULL')),\n",
    "    ('ohe', OneHotEncoder(sparse=False, handle_unknown='ignore')),\n",
    "    ('pca', PCA(svd_solver='full', n_components=0.8))\n",
    "])\n",
    "\n",
    "num_trans = Pipeline([\n",
    "    ('simp', SimpleImputer(strategy='constant', fill_value=0)), \n",
    "    ('StdScale', StandardScaler())\n",
    "])\n",
    "\n",
    "preproc = ColumnTransformer(transformers=[('num trans', num_trans, num_vars), \n",
    "                                          ('cat trans', cat_trans, cat_vars)])\n",
    "pl = Pipeline(steps=[('preprocessor', preproc), ('reg', RandomForestRegressor(max_depth=8))])"
   ]
  },
  {
   "cell_type": "code",
   "execution_count": 380,
   "metadata": {},
   "outputs": [
    {
     "name": "stdout",
     "output_type": "stream",
     "text": [
      "R^2 for training data:  0.884675517453927\n",
      "R^2 for test data:  0.3686689500874374\n"
     ]
    }
   ],
   "source": [
    "pl.fit(X_train, y_train)\n",
    "train_rsquared = pl.score(X_train, y_train)\n",
    "test_rsquared = pl.score(X_test, y_test)\n",
    "print(\"R^2 for training data: \", train_rsquared)\n",
    "print(\"R^2 for test data: \", test_rsquared)"
   ]
  },
  {
   "cell_type": "code",
   "execution_count": 381,
   "metadata": {},
   "outputs": [],
   "source": [
    "preds = pl.predict(X_test)"
   ]
  },
  {
   "cell_type": "markdown",
   "metadata": {},
   "source": [
    "### Fairness Evaluation"
   ]
  },
  {
   "cell_type": "code",
   "execution_count": 382,
   "metadata": {},
   "outputs": [
    {
     "name": "stderr",
     "output_type": "stream",
     "text": [
      "<ipython-input-382-bf221e27bd23>:3: SettingWithCopyWarning: \n",
      "A value is trying to be set on a copy of a slice from a DataFrame.\n",
      "Try using .loc[row_indexer,col_indexer] = value instead\n",
      "\n",
      "See the caveats in the documentation: https://pandas.pydata.org/pandas-docs/stable/user_guide/indexing.html#returning-a-view-versus-a-copy\n",
      "  results['long_outage'] = (results['OUTAGE.DURATION'] <= 5000).replace({True:'long', False:'short'})\n",
      "<ipython-input-382-bf221e27bd23>:4: SettingWithCopyWarning: \n",
      "A value is trying to be set on a copy of a slice from a DataFrame.\n",
      "Try using .loc[row_indexer,col_indexer] = value instead\n",
      "\n",
      "See the caveats in the documentation: https://pandas.pydata.org/pandas-docs/stable/user_guide/indexing.html#returning-a-view-versus-a-copy\n",
      "  results['prediction'] = preds\n",
      "<ipython-input-382-bf221e27bd23>:5: SettingWithCopyWarning: \n",
      "A value is trying to be set on a copy of a slice from a DataFrame.\n",
      "Try using .loc[row_indexer,col_indexer] = value instead\n",
      "\n",
      "See the caveats in the documentation: https://pandas.pydata.org/pandas-docs/stable/user_guide/indexing.html#returning-a-view-versus-a-copy\n",
      "  results['tag'] = y_test\n"
     ]
    },
    {
     "data": {
      "text/html": [
       "<div>\n",
       "<style scoped>\n",
       "    .dataframe tbody tr th:only-of-type {\n",
       "        vertical-align: middle;\n",
       "    }\n",
       "\n",
       "    .dataframe tbody tr th {\n",
       "        vertical-align: top;\n",
       "    }\n",
       "\n",
       "    .dataframe thead th {\n",
       "        text-align: right;\n",
       "    }\n",
       "</style>\n",
       "<table border=\"1\" class=\"dataframe\">\n",
       "  <thead>\n",
       "    <tr style=\"text-align: right;\">\n",
       "      <th></th>\n",
       "      <th>prediction</th>\n",
       "    </tr>\n",
       "    <tr>\n",
       "      <th>long_outage</th>\n",
       "      <th></th>\n",
       "    </tr>\n",
       "  </thead>\n",
       "  <tbody>\n",
       "    <tr>\n",
       "      <th>long</th>\n",
       "      <td>222456.112011</td>\n",
       "    </tr>\n",
       "    <tr>\n",
       "      <th>short</th>\n",
       "      <td>303267.454438</td>\n",
       "    </tr>\n",
       "  </tbody>\n",
       "</table>\n",
       "</div>"
      ],
      "text/plain": [
       "                prediction\n",
       "long_outage               \n",
       "long         222456.112011\n",
       "short        303267.454438"
      ]
     },
     "execution_count": 382,
     "metadata": {},
     "output_type": "execute_result"
    }
   ],
   "source": [
    "# long is outage duration greater than 5000\n",
    "results = X_test\n",
    "results['long_outage'] = (results['OUTAGE.DURATION'] <= 5000).replace({True:'long', False:'short'})\n",
    "results['prediction'] = preds\n",
    "results['tag'] = y_test\n",
    "results.groupby('long_outage').prediction.mean().to_frame()"
   ]
  },
  {
   "cell_type": "code",
   "execution_count": 383,
   "metadata": {},
   "outputs": [],
   "source": [
    "obs = results.groupby('long_outage').apply(lambda x: metrics.r2_score(x.tag, x.prediction)).diff().iloc[-1]\n",
    "metrs = []\n",
    "for _ in range(100):\n",
    "    results = results.reset_index(drop=True)\n",
    "   \n",
    "    sampled = results[['long_outage', 'prediction', 'tag']].assign(long_outage=results['long_outage']\n",
    "                                                                   .sample(frac=1.0, replace=False)\n",
    "                                                                   .reset_index(drop=True))\n",
    "\n",
    "    s = sampled.groupby('long_outage').apply(lambda x: metrics.r2_score(x.tag, x.prediction)).diff().iloc[-1]\n",
    "    \n",
    "    metrs.append(s)"
   ]
  },
  {
   "cell_type": "code",
   "execution_count": 384,
   "metadata": {},
   "outputs": [
    {
     "data": {
      "text/plain": [
       "0.15"
      ]
     },
     "execution_count": 384,
     "metadata": {},
     "output_type": "execute_result"
    }
   ],
   "source": [
    "p_value = pd.Series(metrs <= obs).mean()\n",
    "p_value"
   ]
  },
  {
   "cell_type": "code",
   "execution_count": null,
   "metadata": {},
   "outputs": [],
   "source": []
  }
 ],
 "metadata": {
  "kernelspec": {
   "display_name": "Python 3",
   "language": "python",
   "name": "python3"
  },
  "language_info": {
   "codemirror_mode": {
    "name": "ipython",
    "version": 3
   },
   "file_extension": ".py",
   "mimetype": "text/x-python",
   "name": "python",
   "nbconvert_exporter": "python",
   "pygments_lexer": "ipython3",
   "version": "3.8.8"
  }
 },
 "nbformat": 4,
 "nbformat_minor": 2
}
